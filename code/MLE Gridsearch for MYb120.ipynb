{
 "cells": [
  {
   "cell_type": "code",
   "execution_count": 2,
   "id": "d4082e33",
   "metadata": {},
   "outputs": [],
   "source": [
    "import matplotlib.pyplot as plt\n",
    "import numpy as np\n",
    "import pandas as pd\n",
    "import seaborn as sns\n",
    "import random as ra\n",
    "import scipy\n",
    "from scipy.optimize import curve_fit\n",
    "from scipy.integrate import odeint\n",
    "from scipy.optimize import minimize\n",
    "import diptest\n",
    "from scipy.stats import skew, kurtosis\n",
    "import math\n",
    "import timeit\n",
    "import itertools\n",
    "import SGD\n",
    "\n",
    "plt.rcParams['figure.dpi'] = 300\n",
    "plt.rcParams[\"font.family\"] = \"serif\"\n",
    "plt.rcParams[\"font.serif\"] = \"Times New Roman\"\n",
    "plt.rcParams[\"mathtext.fontset\"] = \"cm\""
   ]
  },
  {
   "cell_type": "code",
   "execution_count": 3,
   "id": "47ac6637",
   "metadata": {},
   "outputs": [
    {
     "data": {
      "text/plain": [
       "(144, 4)"
      ]
     },
     "execution_count": 3,
     "metadata": {},
     "output_type": "execute_result"
    }
   ],
   "source": [
    "#Load Data\n",
    "\n",
    "MYb120 = pd.read_csv(\"../Data/MYb120.csv\", delimiter=\",\")\n",
    "data = MYb120.dropna()\n",
    "data.shape"
   ]
  },
  {
   "cell_type": "code",
   "execution_count": 4,
   "id": "ec05545e",
   "metadata": {},
   "outputs": [
    {
     "name": "stdout",
     "output_type": "stream",
     "text": [
      "MYb120 Stats for T72 log(data):\n",
      "mean, std = 2.14e+00 & 6.7e-01\n"
     ]
    }
   ],
   "source": [
    "#Process the data and calculate the statistics at T48\n",
    "\n",
    "\n",
    "t_data = data[\"Time\"].to_numpy()\n",
    "N_data = data[\"logCFU\"].to_numpy()\n",
    "\n",
    "Ndata_raw = MYb120[\"CFU\"].to_numpy()\n",
    "tdata_raw = MYb120[\"Time\"].to_numpy()\n",
    "\n",
    "newvar = np.log10(np.maximum(1,Ndata_raw).reshape(6,24))\n",
    "\n",
    "tset = [12,18,24,36,42,48]\n",
    "\n",
    "MYb120df1 = np.array(MYb120);\n",
    "MYb120_m = MYb120df1.reshape(6,24,4)\n",
    "\n",
    "means = np.zeros(6)\n",
    "stds = np.zeros(6)\n",
    "\n",
    "\n",
    "for i in range(6):\n",
    "    stats_data = np.array(MYb120_m[i,:,-1], dtype =float)\n",
    "    n = len(np.array(MYb120_m[i,:,-1], dtype =float))\n",
    "    \n",
    "    means[i] = np.nanmean(stats_data)\n",
    "    stds[i] = np.nanstd(stats_data)\n",
    "    \n",
    "        \n",
    "print(\"MYb120 Stats for T72 log(data):\")\n",
    "print(\"mean, std =\", np.format_float_scientific(np.round(means[5],2)),  \n",
    "      \"&\" ,np.format_float_scientific(np.round(stds[5],2)))\n",
    "    "
   ]
  },
  {
   "cell_type": "code",
   "execution_count": 4,
   "id": "9b52874b",
   "metadata": {},
   "outputs": [
    {
     "name": "stdout",
     "output_type": "stream",
     "text": [
      "   L  M  H\n",
      "[[ 5 17  2]\n",
      " [ 6 13  5]\n",
      " [ 4 12  8]\n",
      " [ 9 14  1]\n",
      " [ 5 14  5]\n",
      " [ 1 18  5]]\n"
     ]
    }
   ],
   "source": [
    "#Set thresholds for bacterial load and calculate abundances in the data\n",
    "\n",
    "low_threshold = 1.0 \n",
    "high_threshold = 2.5 \n",
    "\n",
    "\n",
    "# Bins: 0 = Low, 1 = Medium, 2 = High\n",
    "bins = np.zeros((6, 24), dtype=int)\n",
    "abundances = np.zeros((6,3), dtype=int)\n",
    "\n",
    "\n",
    "for i in range(6):\n",
    "    for j in range(24):\n",
    "        ab_data = MYb120_m[i, j, -1] \n",
    "        \n",
    "        if ab_data < low_threshold:\n",
    "            bins[i, j] = 0  # Low bin\n",
    "        elif low_threshold <= ab_data <= high_threshold:\n",
    "            bins[i, j] = 1  # Medium bin\n",
    "        else:\n",
    "            bins[i, j] = 2  # High bin\n",
    "            \n",
    "        \n",
    "        abundances[i,:] = np.bincount(bins[i], minlength=3)      \n",
    "            \n",
    "#print(bins)\n",
    "print(\"   L  M  H\")\n",
    "print(abundances)"
   ]
  },
  {
   "cell_type": "code",
   "execution_count": 5,
   "id": "1f2b86d0",
   "metadata": {},
   "outputs": [],
   "source": [
    "# Define the fitting function and fit to the data\n",
    "\n",
    "def meanfieldeq(N,t,V,c,b,d):\n",
    "    return c*(1-(N/V)) + b*(N)*(1-(N/V)) - d*(N)\n",
    "\n",
    "def fitfunc(t,V,c,b,d):\n",
    "\n",
    "    N0 = 0.00001\n",
    "    result = odeint(meanfieldeq,N0,t, args = (V,c,b,d))\n",
    "    return np.log10(result[:,0])"
   ]
  },
  {
   "cell_type": "code",
   "execution_count": 6,
   "id": "116cd88f",
   "metadata": {},
   "outputs": [
    {
     "name": "stdout",
     "output_type": "stream",
     "text": [
      "V =  28930.15041131439 c =  13.365115013840507 b =  0.813253188517385 d =  1.016039845543899\n"
     ]
    }
   ],
   "source": [
    "c_fit, ccov = curve_fit(fitfunc, t_data, N_data, p0= [100000,1, 1, 1], bounds=(0,10000000))\n",
    "print( \"V = \", c_fit[0], \"c = \", c_fit[1], \"b = \",c_fit[2], \"d = \",c_fit[3])\n",
    "#print(ccov)\n",
    "tfit = np.linspace(0,50);\n",
    "fit = fitfunc(tfit, c_fit[0], c_fit[1], c_fit[2], c_fit[3])"
   ]
  },
  {
   "cell_type": "code",
   "execution_count": 8,
   "id": "48cbf20b",
   "metadata": {},
   "outputs": [],
   "source": [
    "#Function that calculates the NEGATIVE likelihood for a set of parameters and simulation abundances\n",
    "\n",
    "def likelihood(theta):\n",
    "\n",
    "    expnum = 100\n",
    "\n",
    "    sim_bins = np.zeros((6, expnum), dtype=int)\n",
    "    sim_abundances = np.zeros((6,3), dtype=int)\n",
    "    sim_probabilities = np.zeros((6,3))\n",
    "\n",
    "    sim_low_threshold = 10**1.0 \n",
    "    sim_high_threshold = 10**2.5\n",
    "\n",
    "    V = 500000 \n",
    "    d = c_fit[3]\n",
    "\n",
    "\n",
    "    tottime = 48\n",
    "    tstep = 1/4\n",
    "    tpnum = int(tottime/tstep)\n",
    "\n",
    "    newtime = np.arange(0,tottime, tstep)\n",
    "\n",
    "    gil = np.zeros((expnum,tpnum))\n",
    "\n",
    "    for expt in range(expnum):\n",
    "\n",
    "        t = 0.0\n",
    "        N = 0.0\n",
    "\n",
    "        b = 0\n",
    "        c = 0\n",
    "        while b <=d or c <= 0:\n",
    "            \n",
    "            c = np.random.normal(theta[0], theta[1])\n",
    "            b = np.random.normal(theta[2], theta[3])\n",
    "\n",
    "        step = 0\n",
    "\n",
    "        while t < tottime:\n",
    "\n",
    "            if t >= step*tstep:\n",
    "                while step*tstep <= t:\n",
    "                    gil[expt,step] = N\n",
    "                    step = step + 1\n",
    "                if N >=10000:\n",
    "                    det_t = np.arange((step)*tstep - t,tottime-(step-1)*tstep,tstep)\n",
    "\n",
    "                    det_N = odeint(meanfieldeq,N,det_t, args = (V,c,b,d))\n",
    "                    gil[expt,step-1:] = det_N.reshape(-1)\n",
    "\n",
    "                    break        \n",
    "\n",
    "            E = V - N\n",
    "            a1 = c*(E/V)\n",
    "            a2 = b*E*(N/V)\n",
    "            a3 = d*N\n",
    "            a = a1 + a2 + a3\n",
    "            r1 = ra.uniform(0,1)\n",
    "            r2 = ra.uniform(0,1)\n",
    "            tau = 1/a*math.log(1/r1)\n",
    "            t = t + tau\n",
    "            targeta = a*r2\n",
    "            if targeta < a1:\n",
    "                N = N + 1\n",
    "            elif targeta < a1 + a2:\n",
    "                N = N + 1\n",
    "            else:\n",
    "                N = N -1      \n",
    "\n",
    "            if N <= 0:\n",
    "                #break \n",
    "                N =0\n",
    "\n",
    "        for i, t_sim in enumerate([48, 72, 96, 144, 168, 191]):\n",
    "            simdata = gil[expt, t_sim] \n",
    "\n",
    "            if simdata < sim_low_threshold:\n",
    "                sim_bins[i, expt] = 0  # Low bin\n",
    "            elif sim_low_threshold <= simdata <= sim_high_threshold:\n",
    "                sim_bins[i, expt] = 1  # Medium bin\n",
    "            else:\n",
    "                sim_bins[i, expt] = 2  # High bin\n",
    "\n",
    "        for i in range(6):        \n",
    "            sim_abundances[i,:] = np.bincount(sim_bins[i, :], minlength=3)\n",
    "            sim_probabilities = sim_abundances/expnum\n",
    "            \n",
    "            \n",
    "    loglikelihood = 0\n",
    "    for i in range(6):\n",
    "        for j in range(3):  \n",
    "            if abundances[i,j] ==0:\n",
    "                loglikelihood = loglikelihood\n",
    "            elif sim_probabilities[i,j] == 0:\n",
    "                loglikelihood = loglikelihood + abundances[i,j]*np.log10(1/100000)  \n",
    "            else:\n",
    "                loglikelihood = loglikelihood + abundances[i,j]*np.log10(sim_probabilities[i,j])\n",
    "\n",
    "    return -loglikelihood\n",
    "        "
   ]
  },
  {
   "cell_type": "code",
   "execution_count": 9,
   "id": "4a90ab68",
   "metadata": {},
   "outputs": [],
   "source": [
    "#Set ranges for the birth and colonization parameter grid\n",
    "\n",
    "c_mean = np.geomspace(c_fit[1]/10,c_fit[1]*10,11)\n",
    "c_std_sc = np.geomspace(0.01*c_fit[1],1*c_fit[1],11)\n",
    "\n",
    "b_mean = np.geomspace(c_fit[3],c_fit[2]*10,11)\n",
    "b_std_sc = np.geomspace(0.01*c_fit[2],1*c_fit[2],11)"
   ]
  },
  {
   "cell_type": "code",
   "execution_count": 10,
   "id": "dbd77393",
   "metadata": {},
   "outputs": [
    {
     "name": "stdout",
     "output_type": "stream",
     "text": [
      "Best Parameters: (1.3365115013840507, 0.532074812228211, 1.016039845543899, 0.12889194422284986)\n",
      "Minimum Likelihood: 68.5822803083469\n"
     ]
    }
   ],
   "source": [
    "#Calculate likelihood for all combinations of parameters and chooses the combinational that minimizes it\n",
    "\n",
    "\n",
    "st_time = timeit.default_timer()\n",
    "\n",
    "min_likelihood = 200.00\n",
    "likelihood_vals = np.zeros((14641))\n",
    "\n",
    "for i, theta_combination in enumerate(itertools.product(c_mean, c_std_sc, b_mean, b_std_sc)):\n",
    "    likelihood_val = likelihood(theta_combination)\n",
    "    likelihood_vals[i] = likelihood_val\n",
    "    \n",
    "    if likelihood_val < min_likelihood:\n",
    "        min_likelihood = likelihood_val\n",
    "        best_theta = theta_combination\n",
    "\n",
    "# Output the best parameters and corresponding minimum likelihood -  used for figure 3\n",
    "print(f\"Best Parameters: {best_theta}\")\n",
    "print(f\"Minimum Likelihood: {min_likelihood}\")"
   ]
  },
  {
   "cell_type": "code",
   "execution_count": 11,
   "id": "81bdc976",
   "metadata": {},
   "outputs": [
    {
     "name": "stdout",
     "output_type": "stream",
     "text": [
      "Program Executed in 36494.76369825\n"
     ]
    }
   ],
   "source": [
    "stop = timeit.default_timer()\n",
    "execution_time = stop - st_time\n",
    "\n",
    "print(\"Program Executed in \"+str(execution_time))"
   ]
  },
  {
   "cell_type": "code",
   "execution_count": 12,
   "id": "42405656",
   "metadata": {},
   "outputs": [],
   "source": [
    "#Save all the parameters and likelihood values\n",
    "\n",
    "params_list = np.zeros((14641,4))\n",
    "for i, theta_combination in enumerate(itertools.product(c_mean, c_std_sc, b_mean, b_std_sc)):\n",
    "    params_list[i,:] = theta_combination"
   ]
  },
  {
   "cell_type": "code",
   "execution_count": 13,
   "id": "1c475632",
   "metadata": {},
   "outputs": [],
   "source": [
    "np.save(\"likelihoodvals_MYb120.npy\", likelihood_vals)"
   ]
  },
  {
   "cell_type": "code",
   "execution_count": 14,
   "id": "6e8ce7ca",
   "metadata": {},
   "outputs": [],
   "source": [
    "np.save(\"allparameters_MYb120.npy\", params_list)"
   ]
  },
  {
   "cell_type": "code",
   "execution_count": 15,
   "id": "02ef2c93",
   "metadata": {},
   "outputs": [
    {
     "data": {
      "image/png": "[encoded data removed]",
      "text/plain": [
       "<Figure size 1920x1440 with 1 Axes>"
      ]
     },
     "metadata": {},
     "output_type": "display_data"
    }
   ],
   "source": [
    "#Plot the histogram of the likelihoods\n",
    "\n",
    "plt.hist(likelihood_vals)\n",
    "plt.show()"
   ]
  },
  {
   "cell_type": "code",
   "execution_count": null,
   "id": "ad24a4ce",
   "metadata": {},
   "outputs": [],
   "source": []
  }
 ],
 "metadata": {
  "kernelspec": {
   "display_name": "Python 3 (ipykernel)",
   "language": "python",
   "name": "python3"
  },
  "language_info": {
   "codemirror_mode": {
    "name": "ipython",
    "version": 3
   },
   "file_extension": ".py",
   "mimetype": "text/x-python",
   "name": "python",
   "nbconvert_exporter": "python",
   "pygments_lexer": "ipython3",
   "version": "3.11.4"
  }
 },
 "nbformat": 4,
 "nbformat_minor": 5
}
